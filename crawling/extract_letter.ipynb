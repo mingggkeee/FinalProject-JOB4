{
 "cells": [
  {
   "cell_type": "code",
   "execution_count": 12,
   "metadata": {},
   "outputs": [],
   "source": [
    "import os\n",
    "import docx2txt\n",
    "import pandas as pd\n",
    "import pymysql\n",
    "from pathlib import Path\n",
    "# custom\n",
    "from src.pdfPreprocessor import PdfDocument\n",
    "from src.docPreprocessor import DocxDocument"
   ]
  },
  {
   "cell_type": "code",
   "execution_count": 2,
   "metadata": {},
   "outputs": [],
   "source": [
    "path = Path(Path.cwd())\n",
    "par = str(path.parent)\n",
    "data_path = par + \"/datafiles/raw-data/\""
   ]
  },
  {
   "cell_type": "code",
   "execution_count": 3,
   "metadata": {},
   "outputs": [],
   "source": [
    "from datetime import datetime\n",
    "\n",
    "today = datetime.today()\n",
    "\n",
    "todayDate = str(today.year) + \"-\" + str(today.month) + \"-\" + \\\n",
    "            str(today.day) + \"-\" + str(today.hour) + \"-\""
   ]
  },
  {
   "cell_type": "code",
   "execution_count": 10,
   "metadata": {},
   "outputs": [
    {
     "name": "stdout",
     "output_type": "stream",
     "text": [
      "디렉터리 incruit2의 1412개 파일을 처리 완료.\n",
      "디렉터리 incruit의 1887개 파일을 처리 완료.\n"
     ]
    }
   ],
   "source": [
    "# docx 파일 처리\n",
    "\n",
    "f = open(todayDate + 'log.txt', 'wt')\n",
    "\n",
    "letter_list = []\n",
    "\n",
    "for datadir in os.listdir(data_path):\n",
    "    if datadir != 'incruit' and datadir != 'incruit2':\n",
    "        continue\n",
    "\n",
    "    cnt = 0\n",
    "    \n",
    "    for file in os.listdir(data_path + datadir):\n",
    "        cnt += 1\n",
    "        ext = file[-3:]\n",
    "        if ext == 'ocx':\n",
    "            text = docx2txt.process(data_path + datadir + \"/\" + file)\n",
    "            lines = []\n",
    "            for line in text.splitlines():\n",
    "                if line == '\\n' or line == '':\n",
    "                    continue\n",
    "                lines.append(line)\n",
    "            docObj = DocxDocument(lines)\n",
    "            corpName = docObj.extractCorpName()\n",
    "            task = docObj.extractTask()\n",
    "            q, a = docObj.extractQAList()\n",
    "            \n",
    "            if len(q) != len(a):\n",
    "                f.write(data_path + datadir + '/' + file + '\\n')\n",
    "                continue\n",
    "                \n",
    "            for i in range(len(q)):\n",
    "                idx = a[i].find('\\t')\n",
    "                if idx != -1:\n",
    "                    a[i] = a[i][:idx]\n",
    "                letter_list.append([corpName, task, q[i][2:].strip(), a[i].strip()])\n",
    "        \n",
    "    print(\"디렉터리 {}의 {}개 파일을 처리 완료.\".format(datadir, cnt))\n",
    "    \n",
    "f.close()"
   ]
  },
  {
   "cell_type": "markdown",
   "metadata": {},
   "source": [
    "## MySQL"
   ]
  },
  {
   "cell_type": "code",
   "execution_count": 13,
   "metadata": {},
   "outputs": [],
   "source": [
    "conn_info = {'host':'13.124.236.54', \\\n",
    "           'user':'ssac', \\\n",
    "           'password':'Ssac123!@#', \\\n",
    "           'db':'job4',\\\n",
    "           'charset':'utf8'}"
   ]
  },
  {
   "cell_type": "code",
   "execution_count": 16,
   "metadata": {},
   "outputs": [
    {
     "data": {
      "text/plain": [
       "['KB손해사정',\n",
       " '재물배상 파트',\n",
       " '희망업무 및 장래의 포부',\n",
       " '[배상책임보험의 손해사정 그리고 CPCU 취득을 통한 최고의 손해보험전문가]  배상책임보험의 손해사정 업무를 하고 싶습니다. 배상책임보험은 현재 가장 활성화되고 있는 손해보험종목 중 하나라고 생각합니다. 피해자보호정책이 강화되고 가해자의 배상이행자력을 확보하기 위해 배상책임보험은 더욱 성장 발전 할 것입니다. KB홈앤비즈케어종합보험에는 임차자 배상책임에서부터 학교경영자 배상책임까지 다양한 손해사정을 통해 개인과 기업 모두에게 만족을 드리는 서비스를 제공하고 싶습니다. 이름만으로도 신뢰감을 주는 회사이기 때문에 그 일원으로서 더욱 보람을 느끼며 일할 수 있다고 생각합니다. 고액의 보험금이 저의 판단으로 지급, 부 지급이 결정되기 때문에 더욱 더 책임감을 느끼고 업무에 일 할 수 있는 것이 재물배상 손해사정 직무의 장점이라고 생각합니다. 재물보험 전문가로서 더 성장하기 위해 국제적 손해보험전문인 자격증인 CPCU를 취득하여 고객들에게 더 깊은 신뢰를 드리겠습니다. 사고가 나면 보험금 이야기만 하는 딱딱한 직장인이 아닌 위로가 먼저 되는 사람이 되겠습니다. 제 자신이 먼저 자부심을 가지고 KB손해사정의 가치를 더욱 더 높이는 사람이 되겠습니다']"
      ]
     },
     "execution_count": 16,
     "metadata": {},
     "output_type": "execute_result"
    }
   ],
   "source": [
    "letter_list[-10]"
   ]
  },
  {
   "cell_type": "code",
   "execution_count": 17,
   "metadata": {},
   "outputs": [],
   "source": [
    "task = letter_list[-10][1]"
   ]
  },
  {
   "cell_type": "code",
   "execution_count": 25,
   "metadata": {},
   "outputs": [
    {
     "name": "stdout",
     "output_type": "stream",
     "text": [
      "1\n",
      "((529,),)\n"
     ]
    }
   ],
   "source": [
    "conn = pymysql.connect( **conn_info )\n",
    "\n",
    "cursor = conn.cursor()\n",
    "\n",
    "sql = \"\"\"select `task_id` from `myauth_task` where `name` like %s\"\"\"\n",
    "\n",
    "cursor.execute(sql, ('%' + task + '%'))\n",
    "\n",
    "result = cursor.fetchall()\n",
    "\n",
    "task_id = -1\n",
    "\n",
    "for row in result:\n",
    "    task_id = row[0]\n",
    "    \n",
    "print(result)\n",
    "        \n",
    "conn.close()"
   ]
  },
  {
   "cell_type": "code",
   "execution_count": null,
   "metadata": {},
   "outputs": [],
   "source": []
  }
 ],
 "metadata": {
  "kernelspec": {
   "display_name": "Python 3",
   "language": "python",
   "name": "python3"
  },
  "language_info": {
   "codemirror_mode": {
    "name": "ipython",
    "version": 3
   },
   "file_extension": ".py",
   "mimetype": "text/x-python",
   "name": "python",
   "nbconvert_exporter": "python",
   "pygments_lexer": "ipython3",
   "version": "3.7.6"
  }
 },
 "nbformat": 4,
 "nbformat_minor": 4
}
