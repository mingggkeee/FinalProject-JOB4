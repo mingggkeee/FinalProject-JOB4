{
 "cells": [
  {
   "cell_type": "markdown",
   "metadata": {},
   "source": [
    "# hwp"
   ]
  },
  {
   "cell_type": "code",
   "execution_count": 1,
   "metadata": {},
   "outputs": [],
   "source": [
    "from pathlib import Path\n",
    "import os\n",
    "import pandas as pd"
   ]
  },
  {
   "cell_type": "code",
   "execution_count": 2,
   "metadata": {},
   "outputs": [],
   "source": [
    "path = Path(Path.cwd())\n",
    "par = str(path.parent)\n",
    "saving_path = par + \"/datafiles/master-table/\""
   ]
  },
  {
   "cell_type": "code",
   "execution_count": 3,
   "metadata": {},
   "outputs": [],
   "source": [
    "data_file = par + \"/datafiles/raw-data/\"\n",
    "for data_dir in os.listdir(data_file):\n",
    "    if data_dir == '.DS_Store' or data_dir == 'incruit-dom':\n",
    "        continue\n",
    "    for file in os.listdir(data_file + data_dir):\n",
    "        ext = file[-3:]\n",
    "        if ext == 'hwp':\n",
    "            filename = par + \"/datafiles/hwp-to-txt/\" + file[:-4] + \".txt\"\n",
    "            output = '--output ' + '\"' + filename + '\"'\n",
    "            exefile = 'hwp5txt'\n",
    "            result = '\"' + data_file + data_dir+'/'+file + '\"'\n",
    "            \n",
    "            os.system(exefile + \" \" + output + \" \" + result)"
   ]
  },
  {
   "cell_type": "code",
   "execution_count": 14,
   "metadata": {},
   "outputs": [],
   "source": [
    "txt_path = par + \"/datafiles/hwp-to-txt/\"\n",
    "site_name = ['INCRUIT', 'incruit', '인크루트']\n",
    "\n",
    "corp_list = []\n",
    "task_list = []\n",
    "\n",
    "for file in os.listdir(txt_path):\n",
    "    fname = file[:-4].strip()\n",
    "    for n in site_name:\n",
    "        if file.startswith(n):\n",
    "            temp = fname[len(n):].split(\"_\")\n",
    "            if len(temp) >= 3:\n",
    "                corp_list.append(temp[1])\n",
    "                task_list.append(temp[2])\n",
    "            else:\n",
    "                letter = temp[1].split(\"(\")\n",
    "                if len(letter) == 1:\n",
    "                    corp_list.append(letter[0])\n",
    "                else:\n",
    "                    corp_list.append(letter[0])\n",
    "                    task_list.append(letter[1][:-1])"
   ]
  },
  {
   "cell_type": "code",
   "execution_count": 15,
   "metadata": {},
   "outputs": [
    {
     "name": "stdout",
     "output_type": "stream",
     "text": [
      "<class 'pandas.core.frame.DataFrame'>\n",
      "RangeIndex: 590 entries, 0 to 589\n",
      "Data columns (total 1 columns):\n",
      " #   Column  Non-Null Count  Dtype \n",
      "---  ------  --------------  ----- \n",
      " 0   name    590 non-null    object\n",
      "dtypes: object(1)\n",
      "memory usage: 4.7+ KB\n"
     ]
    }
   ],
   "source": [
    "company_df = pd.DataFrame(corp_list, columns=['name'])\n",
    "company_df.info()"
   ]
  },
  {
   "cell_type": "code",
   "execution_count": 16,
   "metadata": {},
   "outputs": [
    {
     "name": "stdout",
     "output_type": "stream",
     "text": [
      "<class 'pandas.core.frame.DataFrame'>\n",
      "RangeIndex: 340 entries, 0 to 339\n",
      "Data columns (total 1 columns):\n",
      " #   Column  Non-Null Count  Dtype \n",
      "---  ------  --------------  ----- \n",
      " 0   name    340 non-null    object\n",
      "dtypes: object(1)\n",
      "memory usage: 2.8+ KB\n"
     ]
    }
   ],
   "source": [
    "task_df = pd.DataFrame(task_list, columns=['name'])\n",
    "task_df.info()"
   ]
  },
  {
   "cell_type": "code",
   "execution_count": 17,
   "metadata": {},
   "outputs": [],
   "source": [
    "# 중복 제거\n",
    "company_df = company_df.drop_duplicates(['name'], keep='first')\n",
    "task_df = task_df.drop_duplicates(['name'], keep='first')"
   ]
  },
  {
   "cell_type": "code",
   "execution_count": 18,
   "metadata": {},
   "outputs": [
    {
     "name": "stdout",
     "output_type": "stream",
     "text": [
      "<class 'pandas.core.frame.DataFrame'>\n",
      "Int64Index: 515 entries, 0 to 589\n",
      "Data columns (total 1 columns):\n",
      " #   Column  Non-Null Count  Dtype \n",
      "---  ------  --------------  ----- \n",
      " 0   name    515 non-null    object\n",
      "dtypes: object(1)\n",
      "memory usage: 8.0+ KB\n"
     ]
    }
   ],
   "source": [
    "company_df.info()"
   ]
  },
  {
   "cell_type": "code",
   "execution_count": 19,
   "metadata": {},
   "outputs": [
    {
     "name": "stdout",
     "output_type": "stream",
     "text": [
      "<class 'pandas.core.frame.DataFrame'>\n",
      "Int64Index: 206 entries, 0 to 338\n",
      "Data columns (total 1 columns):\n",
      " #   Column  Non-Null Count  Dtype \n",
      "---  ------  --------------  ----- \n",
      " 0   name    206 non-null    object\n",
      "dtypes: object(1)\n",
      "memory usage: 3.2+ KB\n"
     ]
    }
   ],
   "source": [
    "task_df.info()"
   ]
  },
  {
   "cell_type": "code",
   "execution_count": 20,
   "metadata": {},
   "outputs": [
    {
     "data": {
      "text/plain": [
       "<AxesSubplot:>"
      ]
     },
     "execution_count": 20,
     "metadata": {},
     "output_type": "execute_result"
    },
    {
     "data": {
      "image/png": "[encoded data removed]",
      "text/plain": [
       "<Figure size 432x288 with 1 Axes>"
      ]
     },
     "metadata": {
      "needs_background": "light"
     },
     "output_type": "display_data"
    }
   ],
   "source": [
    "task_df.name.map(len).plot(kind='bar')"
   ]
  },
  {
   "cell_type": "code",
   "execution_count": 21,
   "metadata": {},
   "outputs": [
    {
     "data": {
      "text/plain": [
       "<AxesSubplot:>"
      ]
     },
     "execution_count": 21,
     "metadata": {},
     "output_type": "execute_result"
    },
    {
     "data": {
      "image/png": "[encoded data removed]",
      "text/plain": [
       "<Figure size 432x288 with 1 Axes>"
      ]
     },
     "metadata": {
      "needs_background": "light"
     },
     "output_type": "display_data"
    }
   ],
   "source": [
    "company_df.name.map(len).plot(kind='bar')"
   ]
  },
  {
   "cell_type": "code",
   "execution_count": 24,
   "metadata": {},
   "outputs": [
    {
     "data": {
      "text/plain": [
       "350     0\n",
       "137     2\n",
       "293     2\n",
       "89      2\n",
       "358     2\n",
       "       ..\n",
       "353    17\n",
       "160    18\n",
       "510    19\n",
       "154    22\n",
       "44     23\n",
       "Name: name, Length: 515, dtype: int64"
      ]
     },
     "execution_count": 24,
     "metadata": {},
     "output_type": "execute_result"
    }
   ],
   "source": [
    "company_df.name.map(len).sort_values()"
   ]
  },
  {
   "cell_type": "code",
   "execution_count": 26,
   "metadata": {},
   "outputs": [
    {
     "data": {
      "text/plain": [
       "name    cafebene-oversea sales\n",
       "Name: 154, dtype: object"
      ]
     },
     "execution_count": 26,
     "metadata": {},
     "output_type": "execute_result"
    }
   ],
   "source": [
    "# - 로 split 하면 (기업명, 직무) 가 나올 것 같다\n",
    "company_df.loc[154]"
   ]
  },
  {
   "cell_type": "code",
   "execution_count": 29,
   "metadata": {},
   "outputs": [
    {
     "name": "stdout",
     "output_type": "stream",
     "text": [
      "5 ['kepco', 'enc']\n",
      "32 ['ELAND', 'SE']\n",
      "44 ['kyowon', 'sales management']\n",
      "46 ['sae', 'a']\n",
      "51 ['hyundai', 'wia']\n",
      "83 ['MG', 'BANK']\n",
      "96 ['hhic', 'tms']\n",
      "108 ['KLA', 'Tencor']\n",
      "149 ['SEMES', 'FE']\n",
      "154 ['cafebene', 'oversea sales']\n",
      "160 ['incruit', 'management']\n",
      "200 ['ahn', 'gook']\n",
      "260 ['DONGBOO', 'Bodily']\n",
      "262 ['can', 'suhyuP']\n",
      "301 ['k', 'vic']\n",
      "324 ['hanabank', 'banker']\n",
      "346 ['class', 'a']\n",
      "374 ['I', 'NOS']\n",
      "375 ['S', 'OIL']\n",
      "434 ['SAE', 'A']\n",
      "446 ['inicis', 'sales']\n",
      "458 ['S', '0il']\n",
      "524 ['S', 'oil', 'Technology']\n",
      "575 ['INTER', 'M']\n"
     ]
    }
   ],
   "source": [
    "for idx, row in company_df.iterrows():\n",
    "    if idx in [5, 46, 51, 83, 96, 108, 200, 262, 301, 375, 575]:\n",
    "        continue\n",
    "    else:\n",
    "        if len(row['name'].split('-')) > 1:\n",
    "            row['name'].split('-')[0] \n",
    "            row['name'].split('-')[1]"
   ]
  },
  {
   "cell_type": "code",
   "execution_count": null,
   "metadata": {},
   "outputs": [],
   "source": [
    "# 하드코딩 : 기업명에 -가 들어있는 경우\n",
    "[5, 46, 51, 83, 96, 108, 200, 262, 301, 375, 575]"
   ]
  },
  {
   "cell_type": "code",
   "execution_count": null,
   "metadata": {},
   "outputs": [],
   "source": []
  },
  {
   "cell_type": "code",
   "execution_count": null,
   "metadata": {},
   "outputs": [],
   "source": []
  },
  {
   "cell_type": "markdown",
   "metadata": {},
   "source": [
    "# pdf"
   ]
  },
  {
   "cell_type": "code",
   "execution_count": null,
   "metadata": {},
   "outputs": [],
   "source": [
    "from src.pdfPreprocessor import PdfDocument\n"
   ]
  },
  {
   "cell_type": "code",
   "execution_count": null,
   "metadata": {},
   "outputs": [],
   "source": []
  }
 ],
 "metadata": {
  "kernelspec": {
   "display_name": "Python 3",
   "language": "python",
   "name": "python3"
  },
  "language_info": {
   "codemirror_mode": {
    "name": "ipython",
    "version": 3
   },
   "file_extension": ".py",
   "mimetype": "text/x-python",
   "name": "python",
   "nbconvert_exporter": "python",
   "pygments_lexer": "ipython3",
   "version": "3.7.6"
  }
 },
 "nbformat": 4,
 "nbformat_minor": 4
}
