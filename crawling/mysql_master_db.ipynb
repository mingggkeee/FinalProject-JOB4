{
 "cells": [
  {
   "cell_type": "code",
<<<<<<< HEAD
<<<<<<< HEAD
=======
=======
>>>>>>> f3acc03ef0deef6a787f682d2d19c0da4d2e5fd8
   "execution_count": null,
   "metadata": {},
   "outputs": [],
   "source": [
    "!pip install pymysql"
   ]
  },
  {
   "cell_type": "code",
<<<<<<< HEAD
>>>>>>> f3acc03ef0deef6a787f682d2d19c0da4d2e5fd8
=======
>>>>>>> f3acc03ef0deef6a787f682d2d19c0da4d2e5fd8
   "execution_count": 1,
   "metadata": {},
   "outputs": [],
   "source": [
    "from pathlib import Path\n",
    "import os\n",
    "import pandas as pd\n",
    "import pymysql"
   ]
  },
  {
   "cell_type": "code",
   "execution_count": 2,
   "metadata": {},
   "outputs": [],
   "source": [
    "path = Path(Path.cwd())\n",
    "par = str(path.parent)\n",
    "data_path = par + \"/datafiles/master-table/\""
   ]
  },
  {
   "cell_type": "code",
   "execution_count": 3,
   "metadata": {},
   "outputs": [],
   "source": [
    "company_files = []\n",
    "task_files = []\n",
    "qst_files = []\n",
    "industry_files = []\n",
    "\n",
    "for file in os.listdir(data_path):\n",
<<<<<<< HEAD
<<<<<<< HEAD
    "    if file[0] == '.' or file == 'company_industry.csv':\n",
=======
    "    if file[0] == '.':\n",
>>>>>>> f3acc03ef0deef6a787f682d2d19c0da4d2e5fd8
=======
    "    if file[0] == '.':\n",
>>>>>>> f3acc03ef0deef6a787f682d2d19c0da4d2e5fd8
    "        continue\n",
    "        \n",
    "    if 'compani' in file:\n",
    "        company_files.append(data_path + file)\n",
    "    elif 'industry' in file:\n",
    "        industry_files.append(data_path + file)\n",
    "    elif 'task' in file:\n",
    "        task_files.append(data_path + file)\n",
    "    elif 'question' in file:\n",
    "        qst_files.append(data_path + file)\n",
    "    else:\n",
    "        print(\"처리되지 않은 파일 : {}\".format(file))"
   ]
  },
  {
<<<<<<< HEAD
<<<<<<< HEAD
   "cell_type": "code",
   "execution_count": 4,
   "metadata": {},
   "outputs": [],
   "source": [
    "conn_info = {'host':'13.124.236.54', \\\n",
    "           'user':'ssac', \\\n",
    "           'password':'Ssac123!@#', \\\n",
    "           'db':'job4',\\\n",
    "           'charset':'utf8'}"
   ]
  },
  {
=======
>>>>>>> f3acc03ef0deef6a787f682d2d19c0da4d2e5fd8
=======
>>>>>>> f3acc03ef0deef6a787f682d2d19c0da4d2e5fd8
   "cell_type": "markdown",
   "metadata": {},
   "source": [
    "## company"
   ]
  },
  {
   "cell_type": "code",
<<<<<<< HEAD
<<<<<<< HEAD
   "execution_count": 5,
=======
   "execution_count": 4,
>>>>>>> f3acc03ef0deef6a787f682d2d19c0da4d2e5fd8
=======
   "execution_count": 4,
>>>>>>> f3acc03ef0deef6a787f682d2d19c0da4d2e5fd8
   "metadata": {},
   "outputs": [
    {
     "name": "stdout",
     "output_type": "stream",
     "text": [
      "<class 'pandas.core.frame.DataFrame'>\n",
      "RangeIndex: 7691 entries, 0 to 7690\n",
      "Data columns (total 1 columns):\n",
      " #   Column  Non-Null Count  Dtype \n",
      "---  ------  --------------  ----- \n",
      " 0   name    7691 non-null   object\n",
      "dtypes: object(1)\n",
      "memory usage: 60.2+ KB\n"
     ]
    }
   ],
   "source": [
    "company_list = []\n",
    "for file in company_files:\n",
    "    company_list.extend(list(pd.read_csv(file).name))\n",
    "    \n",
    "company_df = pd.DataFrame(company_list, columns=['name'])\n",
    "\n",
    "company_df.info()"
   ]
  },
  {
   "cell_type": "code",
<<<<<<< HEAD
<<<<<<< HEAD
   "execution_count": 6,
=======
   "execution_count": 5,
>>>>>>> f3acc03ef0deef6a787f682d2d19c0da4d2e5fd8
=======
   "execution_count": 5,
>>>>>>> f3acc03ef0deef6a787f682d2d19c0da4d2e5fd8
   "metadata": {},
   "outputs": [
    {
     "data": {
      "text/html": [
       "<div>\n",
       "<style scoped>\n",
       "    .dataframe tbody tr th:only-of-type {\n",
       "        vertical-align: middle;\n",
       "    }\n",
       "\n",
       "    .dataframe tbody tr th {\n",
       "        vertical-align: top;\n",
       "    }\n",
       "\n",
       "    .dataframe thead th {\n",
       "        text-align: right;\n",
       "    }\n",
       "</style>\n",
       "<table border=\"1\" class=\"dataframe\">\n",
       "  <thead>\n",
       "    <tr style=\"text-align: right;\">\n",
       "      <th></th>\n",
       "      <th>name</th>\n",
       "    </tr>\n",
       "  </thead>\n",
       "  <tbody>\n",
       "    <tr>\n",
       "      <th>0</th>\n",
       "      <td>CJ올리브네트웍스</td>\n",
       "    </tr>\n",
       "    <tr>\n",
       "      <th>1</th>\n",
       "      <td>미래에셋대우(주)</td>\n",
       "    </tr>\n",
       "    <tr>\n",
       "      <th>2</th>\n",
       "      <td>삼성에스디에스(주)</td>\n",
       "    </tr>\n",
       "    <tr>\n",
       "      <th>3</th>\n",
       "      <td>(주)케이티디에스</td>\n",
       "    </tr>\n",
       "    <tr>\n",
       "      <th>4</th>\n",
       "      <td>SK㈜ C&amp;C</td>\n",
       "    </tr>\n",
       "    <tr>\n",
       "      <th>...</th>\n",
       "      <td>...</td>\n",
       "    </tr>\n",
       "    <tr>\n",
       "      <th>7686</th>\n",
       "      <td>한국남동발전(주)</td>\n",
       "    </tr>\n",
       "    <tr>\n",
       "      <th>7687</th>\n",
       "      <td>한화종합화학(주)</td>\n",
       "    </tr>\n",
       "    <tr>\n",
       "      <th>7688</th>\n",
       "      <td>(주)빙그레</td>\n",
       "    </tr>\n",
       "    <tr>\n",
       "      <th>7689</th>\n",
       "      <td>(주)웹젠</td>\n",
       "    </tr>\n",
       "    <tr>\n",
       "      <th>7690</th>\n",
       "      <td>삼성SDS(주)</td>\n",
       "    </tr>\n",
       "  </tbody>\n",
       "</table>\n",
       "<p>1371 rows × 1 columns</p>\n",
       "</div>"
      ],
      "text/plain": [
       "            name\n",
       "0      CJ올리브네트웍스\n",
       "1      미래에셋대우(주)\n",
       "2     삼성에스디에스(주)\n",
       "3      (주)케이티디에스\n",
       "4        SK㈜ C&C\n",
       "...          ...\n",
       "7686  한국남동발전(주) \n",
       "7687  한화종합화학(주) \n",
       "7688     (주)빙그레 \n",
       "7689      (주)웹젠 \n",
       "7690   삼성SDS(주) \n",
       "\n",
       "[1371 rows x 1 columns]"
      ]
     },
<<<<<<< HEAD
<<<<<<< HEAD
     "execution_count": 6,
=======
     "execution_count": 5,
>>>>>>> f3acc03ef0deef6a787f682d2d19c0da4d2e5fd8
=======
     "execution_count": 5,
>>>>>>> f3acc03ef0deef6a787f682d2d19c0da4d2e5fd8
     "metadata": {},
     "output_type": "execute_result"
    }
   ],
   "source": [
    "company_df.drop_duplicates(['name'], keep='first')"
   ]
  },
  {
   "cell_type": "code",
<<<<<<< HEAD
<<<<<<< HEAD
   "execution_count": 7,
=======
   "execution_count": 6,
>>>>>>> f3acc03ef0deef6a787f682d2d19c0da4d2e5fd8
=======
   "execution_count": 6,
>>>>>>> f3acc03ef0deef6a787f682d2d19c0da4d2e5fd8
   "metadata": {},
   "outputs": [],
   "source": [
    "unique_company = company_df.drop_duplicates(['name'], keep='first')"
   ]
  },
  {
   "cell_type": "code",
<<<<<<< HEAD
<<<<<<< HEAD
=======
=======
>>>>>>> f3acc03ef0deef6a787f682d2d19c0da4d2e5fd8
   "execution_count": 7,
   "metadata": {},
   "outputs": [],
   "source": [
    "conn_info = {'host':'192.168.20.145', \\\n",
    "           'user':'ssac', \\\n",
    "           'password':'ssac123!@#', \\\n",
    "           'db':'job4',\\\n",
    "           'charset':'utf8'}"
   ]
  },
  {
   "cell_type": "code",
   "execution_count": null,
   "metadata": {},
   "outputs": [],
   "source": [
    "conn = pymysql.connect( **conn_info )\n",
    "\n",
    "cursor = conn.cursor()\n",
    "\n",
    "for idx, row in unique_company.iterrows():\n",
    "    sql = \"\"\"insert into COMPANIES (`name`) values (%s)\"\"\"\n",
    "        \n",
    "    cursor.execute(sql, (str(row['name'])))\n",
    "    \n",
    "    conn.commit()\n",
    "        \n",
    "conn.close()"
   ]
  },
  {
   "cell_type": "markdown",
   "metadata": {},
   "source": [
    "## Task"
   ]
  },
  {
   "cell_type": "code",
<<<<<<< HEAD
>>>>>>> f3acc03ef0deef6a787f682d2d19c0da4d2e5fd8
=======
>>>>>>> f3acc03ef0deef6a787f682d2d19c0da4d2e5fd8
   "execution_count": 8,
   "metadata": {},
   "outputs": [
    {
<<<<<<< HEAD
<<<<<<< HEAD
     "data": {
      "text/plain": [
       "(1371, 1)"
      ]
     },
     "execution_count": 8,
     "metadata": {},
     "output_type": "execute_result"
    }
   ],
   "source": [
    "unique_company.shape"
=======
=======
>>>>>>> f3acc03ef0deef6a787f682d2d19c0da4d2e5fd8
     "name": "stdout",
     "output_type": "stream",
     "text": [
      "<class 'pandas.core.frame.DataFrame'>\n",
      "RangeIndex: 912 entries, 0 to 911\n",
      "Data columns (total 1 columns):\n",
      " #   Column  Non-Null Count  Dtype \n",
      "---  ------  --------------  ----- \n",
      " 0   name    912 non-null    object\n",
      "dtypes: object(1)\n",
      "memory usage: 7.2+ KB\n"
     ]
    }
   ],
   "source": [
    "task_list = []\n",
    "for file in task_files:\n",
    "    task_list.extend(list(pd.read_csv(file).name))\n",
    "    \n",
    "task_df = pd.DataFrame(task_list, columns=['name'])\n",
    "\n",
    "task_df.info()"
<<<<<<< HEAD
>>>>>>> f3acc03ef0deef6a787f682d2d19c0da4d2e5fd8
=======
>>>>>>> f3acc03ef0deef6a787f682d2d19c0da4d2e5fd8
   ]
  },
  {
   "cell_type": "code",
   "execution_count": 9,
   "metadata": {},
   "outputs": [
    {
     "data": {
      "text/html": [
       "<div>\n",
       "<style scoped>\n",
       "    .dataframe tbody tr th:only-of-type {\n",
       "        vertical-align: middle;\n",
       "    }\n",
       "\n",
       "    .dataframe tbody tr th {\n",
       "        vertical-align: top;\n",
       "    }\n",
       "\n",
       "    .dataframe thead th {\n",
       "        text-align: right;\n",
       "    }\n",
       "</style>\n",
       "<table border=\"1\" class=\"dataframe\">\n",
       "  <thead>\n",
       "    <tr style=\"text-align: right;\">\n",
       "      <th></th>\n",
<<<<<<< HEAD
<<<<<<< HEAD
       "      <th>company_name</th>\n",
       "      <th>industry_type</th>\n",
=======
       "      <th>name</th>\n",
>>>>>>> f3acc03ef0deef6a787f682d2d19c0da4d2e5fd8
=======
       "      <th>name</th>\n",
>>>>>>> f3acc03ef0deef6a787f682d2d19c0da4d2e5fd8
       "    </tr>\n",
       "  </thead>\n",
       "  <tbody>\n",
       "    <tr>\n",
       "      <th>0</th>\n",
<<<<<<< HEAD
<<<<<<< HEAD
       "      <td>기아자동차</td>\n",
       "      <td>승용차 및 기타 여객용 자동차 제조업,자동차 신품 판매업,자동차 전문 수리업,자동차...</td>\n",
       "    </tr>\n",
       "    <tr>\n",
       "      <th>1</th>\n",
       "      <td>에이스원격평생교육원</td>\n",
       "      <td>None</td>\n",
       "    </tr>\n",
       "    <tr>\n",
       "      <th>2</th>\n",
       "      <td>대림산업</td>\n",
       "      <td>지주회사,그 외 자동차용 신품 부품 제조업,합성수지 및 기타 플라스틱 물질 제조업,...</td>\n",
       "    </tr>\n",
       "    <tr>\n",
       "      <th>3</th>\n",
       "      <td>Financial Company</td>\n",
       "      <td>None</td>\n",
       "    </tr>\n",
       "    <tr>\n",
       "      <th>4</th>\n",
       "      <td>SH공사</td>\n",
       "      <td>기타 부동산 개발 및 공급업,내부 통신배선 공사업,내부 전기배선 공사업,건축·설비·...</td>\n",
       "    </tr>\n",
       "  </tbody>\n",
       "</table>\n",
       "</div>"
      ],
      "text/plain": [
       "        company_name                                      industry_type\n",
       "0              기아자동차  승용차 및 기타 여객용 자동차 제조업,자동차 신품 판매업,자동차 전문 수리업,자동차...\n",
       "1         에이스원격평생교육원                                               None\n",
       "2               대림산업  지주회사,그 외 자동차용 신품 부품 제조업,합성수지 및 기타 플라스틱 물질 제조업,...\n",
       "3  Financial Company                                               None\n",
       "4               SH공사  기타 부동산 개발 및 공급업,내부 통신배선 공사업,내부 전기배선 공사업,건축·설비·..."
=======
=======
>>>>>>> f3acc03ef0deef6a787f682d2d19c0da4d2e5fd8
       "      <td>경영지원 - 재무</td>\n",
       "    </tr>\n",
       "    <tr>\n",
       "      <th>1</th>\n",
       "      <td>행정</td>\n",
       "    </tr>\n",
       "    <tr>\n",
       "      <th>2</th>\n",
       "      <td>신입/경력 통합6급</td>\n",
       "    </tr>\n",
       "    <tr>\n",
       "      <th>3</th>\n",
       "      <td>사무</td>\n",
       "    </tr>\n",
       "    <tr>\n",
       "      <th>4</th>\n",
       "      <td>금융영업</td>\n",
       "    </tr>\n",
       "    <tr>\n",
       "      <th>...</th>\n",
       "      <td>...</td>\n",
       "    </tr>\n",
       "    <tr>\n",
       "      <th>907</th>\n",
       "      <td>‘QA·테스터·검증’</td>\n",
       "    </tr>\n",
       "    <tr>\n",
       "      <th>908</th>\n",
       "      <td>‘설치·정비·A/S’</td>\n",
       "    </tr>\n",
       "    <tr>\n",
       "      <th>909</th>\n",
       "      <td>‘반도체·디스플레이’</td>\n",
       "    </tr>\n",
       "    <tr>\n",
       "      <th>910</th>\n",
       "      <td>‘학습지·과외·방문교사’</td>\n",
       "    </tr>\n",
       "    <tr>\n",
       "      <th>911</th>\n",
       "      <td>‘기획·전략·경영’</td>\n",
       "    </tr>\n",
       "  </tbody>\n",
       "</table>\n",
       "<p>852 rows × 1 columns</p>\n",
       "</div>"
      ],
      "text/plain": [
       "              name\n",
       "0        경영지원 - 재무\n",
       "1               행정\n",
       "2       신입/경력 통합6급\n",
       "3               사무\n",
       "4             금융영업\n",
       "..             ...\n",
       "907    ‘QA·테스터·검증’\n",
       "908    ‘설치·정비·A/S’\n",
       "909    ‘반도체·디스플레이’\n",
       "910  ‘학습지·과외·방문교사’\n",
       "911     ‘기획·전략·경영’\n",
       "\n",
       "[852 rows x 1 columns]"
<<<<<<< HEAD
>>>>>>> f3acc03ef0deef6a787f682d2d19c0da4d2e5fd8
=======
>>>>>>> f3acc03ef0deef6a787f682d2d19c0da4d2e5fd8
      ]
     },
     "execution_count": 9,
     "metadata": {},
     "output_type": "execute_result"
    }
   ],
   "source": [
<<<<<<< HEAD
<<<<<<< HEAD
    "df = pd.read_csv(data_path + 'company_industry.csv')\n",
    "df = df.where(pd.notnull(df), None)\n",
    "df = df.drop_duplicates(['company_name'], keep='first')\n",
    "df.head()"
=======
    "task_df.drop_duplicates(['name'], keep='first')"
>>>>>>> f3acc03ef0deef6a787f682d2d19c0da4d2e5fd8
=======
    "task_df.drop_duplicates(['name'], keep='first')"
>>>>>>> f3acc03ef0deef6a787f682d2d19c0da4d2e5fd8
   ]
  },
  {
   "cell_type": "code",
   "execution_count": 10,
   "metadata": {},
<<<<<<< HEAD
<<<<<<< HEAD
   "outputs": [
    {
     "data": {
      "text/plain": [
       "(1057, 2)"
      ]
     },
     "execution_count": 10,
     "metadata": {},
     "output_type": "execute_result"
    }
   ],
   "source": [
    "df.shape"
=======
   "outputs": [],
   "source": [
    "unique_task = task_df.drop_duplicates(['name'], keep='first')"
>>>>>>> f3acc03ef0deef6a787f682d2d19c0da4d2e5fd8
=======
   "outputs": [],
   "source": [
    "unique_task = task_df.drop_duplicates(['name'], keep='first')"
>>>>>>> f3acc03ef0deef6a787f682d2d19c0da4d2e5fd8
   ]
  },
  {
   "cell_type": "code",
<<<<<<< HEAD
<<<<<<< HEAD
   "execution_count": 17,
   "metadata": {},
   "outputs": [
    {
     "ename": "KeyboardInterrupt",
     "evalue": "",
     "output_type": "error",
     "traceback": [
      "\u001b[0;31m---------------------------------------------------------------------------\u001b[0m",
      "\u001b[0;31mKeyboardInterrupt\u001b[0m                         Traceback (most recent call last)",
      "\u001b[0;32m<ipython-input-17-cae9eaf6f76b>\u001b[0m in \u001b[0;36m<module>\u001b[0;34m\u001b[0m\n\u001b[1;32m      2\u001b[0m \u001b[0;31m# 1. 이름이 같은 것부터 찾는다\u001b[0m\u001b[0;34m\u001b[0m\u001b[0;34m\u001b[0m\u001b[0;34m\u001b[0m\u001b[0m\n\u001b[1;32m      3\u001b[0m \u001b[0;32mfor\u001b[0m \u001b[0midx\u001b[0m\u001b[0;34m,\u001b[0m \u001b[0mrow\u001b[0m \u001b[0;32min\u001b[0m \u001b[0munique_company\u001b[0m\u001b[0;34m.\u001b[0m\u001b[0miterrows\u001b[0m\u001b[0;34m(\u001b[0m\u001b[0;34m)\u001b[0m\u001b[0;34m:\u001b[0m\u001b[0;34m\u001b[0m\u001b[0;34m\u001b[0m\u001b[0m\n\u001b[0;32m----> 4\u001b[0;31m     \u001b[0;32mfor\u001b[0m \u001b[0mi\u001b[0m\u001b[0;34m,\u001b[0m \u001b[0mr\u001b[0m \u001b[0;32min\u001b[0m \u001b[0mdf\u001b[0m\u001b[0;34m.\u001b[0m\u001b[0miterrows\u001b[0m\u001b[0;34m(\u001b[0m\u001b[0;34m)\u001b[0m\u001b[0;34m:\u001b[0m\u001b[0;34m\u001b[0m\u001b[0;34m\u001b[0m\u001b[0m\n\u001b[0m\u001b[1;32m      5\u001b[0m         \u001b[0;32mif\u001b[0m \u001b[0mr\u001b[0m\u001b[0;34m[\u001b[0m\u001b[0;34m'company_name'\u001b[0m\u001b[0;34m]\u001b[0m \u001b[0;34m==\u001b[0m \u001b[0mrow\u001b[0m\u001b[0;34m[\u001b[0m\u001b[0;34m'name'\u001b[0m\u001b[0;34m]\u001b[0m\u001b[0;34m:\u001b[0m\u001b[0;34m\u001b[0m\u001b[0;34m\u001b[0m\u001b[0m\n\u001b[1;32m      6\u001b[0m             \u001b[0msame\u001b[0m\u001b[0;34m.\u001b[0m\u001b[0mappend\u001b[0m\u001b[0;34m(\u001b[0m\u001b[0midx\u001b[0m\u001b[0;34m)\u001b[0m\u001b[0;34m\u001b[0m\u001b[0;34m\u001b[0m\u001b[0m\n",
      "\u001b[0;32m~/.local/lib/python3.7/site-packages/pandas/core/frame.py\u001b[0m in \u001b[0;36miterrows\u001b[0;34m(self)\u001b[0m\n\u001b[1;32m   1012\u001b[0m         \u001b[0mklass\u001b[0m \u001b[0;34m=\u001b[0m \u001b[0mself\u001b[0m\u001b[0;34m.\u001b[0m\u001b[0m_constructor_sliced\u001b[0m\u001b[0;34m\u001b[0m\u001b[0;34m\u001b[0m\u001b[0m\n\u001b[1;32m   1013\u001b[0m         \u001b[0;32mfor\u001b[0m \u001b[0mk\u001b[0m\u001b[0;34m,\u001b[0m \u001b[0mv\u001b[0m \u001b[0;32min\u001b[0m \u001b[0mzip\u001b[0m\u001b[0;34m(\u001b[0m\u001b[0mself\u001b[0m\u001b[0;34m.\u001b[0m\u001b[0mindex\u001b[0m\u001b[0;34m,\u001b[0m \u001b[0mself\u001b[0m\u001b[0;34m.\u001b[0m\u001b[0mvalues\u001b[0m\u001b[0;34m)\u001b[0m\u001b[0;34m:\u001b[0m\u001b[0;34m\u001b[0m\u001b[0;34m\u001b[0m\u001b[0m\n\u001b[0;32m-> 1014\u001b[0;31m             \u001b[0ms\u001b[0m \u001b[0;34m=\u001b[0m \u001b[0mklass\u001b[0m\u001b[0;34m(\u001b[0m\u001b[0mv\u001b[0m\u001b[0;34m,\u001b[0m \u001b[0mindex\u001b[0m\u001b[0;34m=\u001b[0m\u001b[0mcolumns\u001b[0m\u001b[0;34m,\u001b[0m \u001b[0mname\u001b[0m\u001b[0;34m=\u001b[0m\u001b[0mk\u001b[0m\u001b[0;34m)\u001b[0m\u001b[0;34m\u001b[0m\u001b[0;34m\u001b[0m\u001b[0m\n\u001b[0m\u001b[1;32m   1015\u001b[0m             \u001b[0;32myield\u001b[0m \u001b[0mk\u001b[0m\u001b[0;34m,\u001b[0m \u001b[0ms\u001b[0m\u001b[0;34m\u001b[0m\u001b[0;34m\u001b[0m\u001b[0m\n\u001b[1;32m   1016\u001b[0m \u001b[0;34m\u001b[0m\u001b[0m\n",
      "\u001b[0;32m~/.local/lib/python3.7/site-packages/pandas/core/series.py\u001b[0m in \u001b[0;36m__init__\u001b[0;34m(self, data, index, dtype, name, copy, fastpath)\u001b[0m\n\u001b[1;32m    227\u001b[0m         \u001b[0;32melse\u001b[0m\u001b[0;34m:\u001b[0m\u001b[0;34m\u001b[0m\u001b[0;34m\u001b[0m\u001b[0m\n\u001b[1;32m    228\u001b[0m \u001b[0;34m\u001b[0m\u001b[0m\n\u001b[0;32m--> 229\u001b[0;31m             \u001b[0mname\u001b[0m \u001b[0;34m=\u001b[0m \u001b[0mibase\u001b[0m\u001b[0;34m.\u001b[0m\u001b[0mmaybe_extract_name\u001b[0m\u001b[0;34m(\u001b[0m\u001b[0mname\u001b[0m\u001b[0;34m,\u001b[0m \u001b[0mdata\u001b[0m\u001b[0;34m,\u001b[0m \u001b[0mtype\u001b[0m\u001b[0;34m(\u001b[0m\u001b[0mself\u001b[0m\u001b[0;34m)\u001b[0m\u001b[0;34m)\u001b[0m\u001b[0;34m\u001b[0m\u001b[0;34m\u001b[0m\u001b[0m\n\u001b[0m\u001b[1;32m    230\u001b[0m \u001b[0;34m\u001b[0m\u001b[0m\n\u001b[1;32m    231\u001b[0m             \u001b[0;32mif\u001b[0m \u001b[0mis_empty_data\u001b[0m\u001b[0;34m(\u001b[0m\u001b[0mdata\u001b[0m\u001b[0;34m)\u001b[0m \u001b[0;32mand\u001b[0m \u001b[0mdtype\u001b[0m \u001b[0;32mis\u001b[0m \u001b[0;32mNone\u001b[0m\u001b[0;34m:\u001b[0m\u001b[0;34m\u001b[0m\u001b[0;34m\u001b[0m\u001b[0m\n",
      "\u001b[0;32m~/.local/lib/python3.7/site-packages/pandas/core/indexes/base.py\u001b[0m in \u001b[0;36mmaybe_extract_name\u001b[0;34m(name, obj, cls)\u001b[0m\n\u001b[1;32m   5664\u001b[0m \u001b[0;34m\u001b[0m\u001b[0m\n\u001b[1;32m   5665\u001b[0m     \u001b[0;31m# GH#29069\u001b[0m\u001b[0;34m\u001b[0m\u001b[0;34m\u001b[0m\u001b[0;34m\u001b[0m\u001b[0m\n\u001b[0;32m-> 5666\u001b[0;31m     \u001b[0;32mif\u001b[0m \u001b[0;32mnot\u001b[0m \u001b[0mis_hashable\u001b[0m\u001b[0;34m(\u001b[0m\u001b[0mname\u001b[0m\u001b[0;34m)\u001b[0m\u001b[0;34m:\u001b[0m\u001b[0;34m\u001b[0m\u001b[0;34m\u001b[0m\u001b[0m\n\u001b[0m\u001b[1;32m   5667\u001b[0m         \u001b[0;32mraise\u001b[0m \u001b[0mTypeError\u001b[0m\u001b[0;34m(\u001b[0m\u001b[0;34mf\"{cls.__name__}.name must be a hashable type\"\u001b[0m\u001b[0;34m)\u001b[0m\u001b[0;34m\u001b[0m\u001b[0;34m\u001b[0m\u001b[0m\n\u001b[1;32m   5668\u001b[0m \u001b[0;34m\u001b[0m\u001b[0m\n",
      "\u001b[0;32m~/.local/lib/python3.7/site-packages/pandas/core/dtypes/inference.py\u001b[0m in \u001b[0;36mis_hashable\u001b[0;34m(obj)\u001b[0m\n\u001b[1;32m    351\u001b[0m \u001b[0;34m\u001b[0m\u001b[0m\n\u001b[1;32m    352\u001b[0m     \u001b[0;32mtry\u001b[0m\u001b[0;34m:\u001b[0m\u001b[0;34m\u001b[0m\u001b[0;34m\u001b[0m\u001b[0m\n\u001b[0;32m--> 353\u001b[0;31m         \u001b[0mhash\u001b[0m\u001b[0;34m(\u001b[0m\u001b[0mobj\u001b[0m\u001b[0;34m)\u001b[0m\u001b[0;34m\u001b[0m\u001b[0;34m\u001b[0m\u001b[0m\n\u001b[0m\u001b[1;32m    354\u001b[0m     \u001b[0;32mexcept\u001b[0m \u001b[0mTypeError\u001b[0m\u001b[0;34m:\u001b[0m\u001b[0;34m\u001b[0m\u001b[0;34m\u001b[0m\u001b[0m\n\u001b[1;32m    355\u001b[0m         \u001b[0;32mreturn\u001b[0m \u001b[0;32mFalse\u001b[0m\u001b[0;34m\u001b[0m\u001b[0;34m\u001b[0m\u001b[0m\n",
      "\u001b[0;31mKeyboardInterrupt\u001b[0m: "
     ]
    }
   ],
   "source": [
    "same = []\n",
    "# 1. 이름이 같은 것부터 찾는다\n",
    "for idx, row in unique_company.iterrows():\n",
    "    for i, r in df.iterrows():\n",
    "        if r['company_name'] == row['name']:\n",
    "            same.append(idx)\n",
    "            break\n",
    "\n",
    "temp_df = unique_company.drop(same)\n",
    "\n",
    "# 2. 이름이 포함된 것 찾는다\n",
    "include = dict()\n",
    "for idx, row in temp_df.iterrows():\n",
    "    cnt = 0\n",
    "    for i, r in df.iterrows():\n",
    "        cnt += 1\n",
    "        if r['company_name'] in row['name']:\n",
    "            if r['company_name'] not in include:\n",
    "                include[ r['company_name'] ] = []\n",
    "            include[ r['company_name'] ].append(idx)\n",
    "            break\n",
    "    print(cnt)  # 이 값이 계속 변하네...\n",
    "\n",
    "remain = temp_df.drop(include.values())\n",
    "print(\"남은 회사 이름 : {}\".format(remain.shape[0]))"
=======
=======
>>>>>>> f3acc03ef0deef6a787f682d2d19c0da4d2e5fd8
   "execution_count": null,
   "metadata": {},
   "outputs": [],
   "source": [
    "conn = pymysql.connect( **conn_info )\n",
    "\n",
    "cursor = conn.cursor()\n",
    "\n",
    "for idx, row in unique_task.iterrows():\n",
    "    sql = \"\"\"insert into TASK (`name`) values (%s)\"\"\"\n",
    "\n",
    "    cursor.execute(sql, (str(row['name'])))\n",
    "    \n",
    "    conn.commit()\n",
    "        \n",
    "conn.close()"
   ]
  },
  {
   "cell_type": "markdown",
   "metadata": {},
   "source": [
    "## Question"
<<<<<<< HEAD
>>>>>>> f3acc03ef0deef6a787f682d2d19c0da4d2e5fd8
=======
>>>>>>> f3acc03ef0deef6a787f682d2d19c0da4d2e5fd8
   ]
  },
  {
   "cell_type": "code",
<<<<<<< HEAD
<<<<<<< HEAD
   "execution_count": null,
   "metadata": {},
   "outputs": [],
   "source": [
    "df.loc[ df['company_name'] == '삼성에스디에스' ]"
=======
=======
>>>>>>> f3acc03ef0deef6a787f682d2d19c0da4d2e5fd8
   "execution_count": 11,
   "metadata": {},
   "outputs": [
    {
     "name": "stdout",
     "output_type": "stream",
     "text": [
      "<class 'pandas.core.frame.DataFrame'>\n",
      "RangeIndex: 16447 entries, 0 to 16446\n",
      "Data columns (total 1 columns):\n",
      " #   Column  Non-Null Count  Dtype \n",
      "---  ------  --------------  ----- \n",
      " 0   name    16446 non-null  object\n",
      "dtypes: object(1)\n",
      "memory usage: 128.6+ KB\n"
     ]
    }
   ],
   "source": [
    "qst_list = []\n",
    "for file in qst_files:\n",
    "    col = pd.read_csv(file).columns[0]\n",
    "    qst_list.extend(list(pd.read_csv(file)[col]))\n",
    "    \n",
    "qst_df = pd.DataFrame(qst_list, columns=['name'])\n",
    "\n",
    "qst_df.info()"
<<<<<<< HEAD
>>>>>>> f3acc03ef0deef6a787f682d2d19c0da4d2e5fd8
=======
>>>>>>> f3acc03ef0deef6a787f682d2d19c0da4d2e5fd8
   ]
  },
  {
   "cell_type": "code",
   "execution_count": 12,
   "metadata": {},
   "outputs": [
    {
     "data": {
      "text/html": [
       "<div>\n",
       "<style scoped>\n",
       "    .dataframe tbody tr th:only-of-type {\n",
       "        vertical-align: middle;\n",
       "    }\n",
       "\n",
       "    .dataframe tbody tr th {\n",
       "        vertical-align: top;\n",
       "    }\n",
       "\n",
       "    .dataframe thead th {\n",
       "        text-align: right;\n",
       "    }\n",
       "</style>\n",
       "<table border=\"1\" class=\"dataframe\">\n",
       "  <thead>\n",
       "    <tr style=\"text-align: right;\">\n",
       "      <th></th>\n",
       "      <th>name</th>\n",
       "    </tr>\n",
       "  </thead>\n",
       "  <tbody>\n",
       "    <tr>\n",
<<<<<<< HEAD
<<<<<<< HEAD
       "      <th>2</th>\n",
       "      <td>삼성에스디에스(주)</td>\n",
       "    </tr>\n",
       "    <tr>\n",
       "      <th>4</th>\n",
       "      <td>SK㈜ C&amp;C</td>\n",
       "    </tr>\n",
       "    <tr>\n",
       "      <th>6</th>\n",
       "      <td>삼성전자(주)</td>\n",
       "    </tr>\n",
       "    <tr>\n",
       "      <th>13</th>\n",
       "      <td>(주)신세계아이앤씨</td>\n",
       "    </tr>\n",
       "    <tr>\n",
       "      <th>16</th>\n",
       "      <td>네이버(주)</td>\n",
=======
=======
>>>>>>> f3acc03ef0deef6a787f682d2d19c0da4d2e5fd8
       "      <th>0</th>\n",
       "      <td>취미/특기 (40자)</td>\n",
       "    </tr>\n",
       "    <tr>\n",
       "      <th>1</th>\n",
       "      <td>존경인물 (10자)</td>\n",
       "    </tr>\n",
       "    <tr>\n",
       "      <th>2</th>\n",
       "      <td>존경이유 (40자)</td>\n",
       "    </tr>\n",
       "    <tr>\n",
       "      <th>3</th>\n",
       "      <td>삼성엔지니어링을 지원한 이유와 입사 후 회사에서 이루고 싶은 꿈을 기술하십시오. (...</td>\n",
       "    </tr>\n",
       "    <tr>\n",
       "      <th>4</th>\n",
       "      <td>본인의 성장과정을 간략히 기술하되 현재의 자신에게 가장 큰 영향을 끼친 사건, 인물...</td>\n",
<<<<<<< HEAD
>>>>>>> f3acc03ef0deef6a787f682d2d19c0da4d2e5fd8
=======
>>>>>>> f3acc03ef0deef6a787f682d2d19c0da4d2e5fd8
       "    </tr>\n",
       "    <tr>\n",
       "      <th>...</th>\n",
       "      <td>...</td>\n",
       "    </tr>\n",
       "    <tr>\n",
<<<<<<< HEAD
<<<<<<< HEAD
       "      <th>7673</th>\n",
       "      <td>한국화학연구원</td>\n",
       "    </tr>\n",
       "    <tr>\n",
       "      <th>7676</th>\n",
       "      <td>한국해양과학기술원</td>\n",
       "    </tr>\n",
       "    <tr>\n",
       "      <th>7680</th>\n",
       "      <td>금호산업(주)</td>\n",
       "    </tr>\n",
       "    <tr>\n",
       "      <th>7681</th>\n",
       "      <td>(주)GS ITM</td>\n",
       "    </tr>\n",
       "    <tr>\n",
       "      <th>7683</th>\n",
       "      <td>한국수목원관리원</td>\n",
       "    </tr>\n",
       "  </tbody>\n",
       "</table>\n",
       "<p>186 rows × 1 columns</p>\n",
       "</div>"
      ],
      "text/plain": [
       "            name\n",
       "2     삼성에스디에스(주)\n",
       "4        SK㈜ C&C\n",
       "6        삼성전자(주)\n",
       "13    (주)신세계아이앤씨\n",
       "16        네이버(주)\n",
       "...          ...\n",
       "7673    한국화학연구원 \n",
       "7676  한국해양과학기술원 \n",
       "7680    금호산업(주) \n",
       "7681  (주)GS ITM \n",
       "7683   한국수목원관리원 \n",
       "\n",
       "[186 rows x 1 columns]"
=======
=======
>>>>>>> f3acc03ef0deef6a787f682d2d19c0da4d2e5fd8
       "      <th>15698</th>\n",
       "      <td>최근 3 년간 이뤘던 성취 중 가장 기억에 남는 일을 서술해 주십시오. (600 자...</td>\n",
       "    </tr>\n",
       "    <tr>\n",
       "      <th>15699</th>\n",
       "      <td>본인이 소속된 조직(학과, 인턴, 동아리, 프로젝트 등)의 목표를 달성하기 위해 노...</td>\n",
       "    </tr>\n",
       "    <tr>\n",
       "      <th>15700</th>\n",
       "      <td>어떤 업무를 처리하는 과정에서 다양한 상황들을 고려하여 의사결정을 내렸던 경험에 대...</td>\n",
       "    </tr>\n",
       "    <tr>\n",
       "      <th>15701</th>\n",
       "      <td>직장으로 한국철도공사에 지원하게 된 동기와 입사 후 포부를 기술하여 주십시오.</td>\n",
       "    </tr>\n",
       "    <tr>\n",
       "      <th>15703</th>\n",
       "      <td>자신의 성격</td>\n",
       "    </tr>\n",
       "  </tbody>\n",
       "</table>\n",
       "<p>4320 rows × 1 columns</p>\n",
       "</div>"
      ],
      "text/plain": [
       "                                                    name\n",
       "0                                            취미/특기 (40자)\n",
       "1                                             존경인물 (10자)\n",
       "2                                             존경이유 (40자)\n",
       "3      삼성엔지니어링을 지원한 이유와 입사 후 회사에서 이루고 싶은 꿈을 기술하십시오. (...\n",
       "4      본인의 성장과정을 간략히 기술하되 현재의 자신에게 가장 큰 영향을 끼친 사건, 인물...\n",
       "...                                                  ...\n",
       "15698  최근 3 년간 이뤘던 성취 중 가장 기억에 남는 일을 서술해 주십시오. (600 자...\n",
       "15699  본인이 소속된 조직(학과, 인턴, 동아리, 프로젝트 등)의 목표를 달성하기 위해 노...\n",
       "15700  어떤 업무를 처리하는 과정에서 다양한 상황들을 고려하여 의사결정을 내렸던 경험에 대...\n",
       "15701        직장으로 한국철도공사에 지원하게 된 동기와 입사 후 포부를 기술하여 주십시오.\n",
       "15703                                             자신의 성격\n",
       "\n",
       "[4320 rows x 1 columns]"
<<<<<<< HEAD
>>>>>>> f3acc03ef0deef6a787f682d2d19c0da4d2e5fd8
=======
>>>>>>> f3acc03ef0deef6a787f682d2d19c0da4d2e5fd8
      ]
     },
     "execution_count": 12,
     "metadata": {},
     "output_type": "execute_result"
    }
   ],
   "source": [
<<<<<<< HEAD
<<<<<<< HEAD
    "remain"
   ]
  },
  {
   "cell_type": "code",
   "execution_count": null,
   "metadata": {},
   "outputs": [],
   "source": [
    "include"
   ]
  },
  {
   "cell_type": "code",
   "execution_count": null,
   "metadata": {},
   "outputs": [],
   "source": [
    "unique_company.shape, remain.shape"
=======
    "qst_df.drop_duplicates(['name'], keep='first')"
>>>>>>> f3acc03ef0deef6a787f682d2d19c0da4d2e5fd8
=======
    "qst_df.drop_duplicates(['name'], keep='first')"
>>>>>>> f3acc03ef0deef6a787f682d2d19c0da4d2e5fd8
   ]
  },
  {
   "cell_type": "code",
<<<<<<< HEAD
<<<<<<< HEAD
   "execution_count": null,
   "metadata": {},
   "outputs": [],
   "source": [
    "# 이름이 일치하는 경우\n",
    "no_industry = []\n",
    "\n",
    "conn = pymysql.connect( **conn_info )\n",
    "\n",
    "cursor = conn.cursor()\n",
    "\n",
    "for s in same:\n",
    "    ind = df.loc[ df['company_name'] == unique_company.loc[s, 'name'] ]['industry_type']\n",
    "    \n",
    "    if ind.tolist()[0] is None:\n",
    "        continue\n",
    "    \n",
    "    for ind_name in ind.tolist()[0].split(\",\"):    \n",
    "        \n",
    "        sql = \"\"\"select `industry_id` from `myauth_industry` where `name` = %s\"\"\"\n",
    "        cursor.execute(sql, (ind_name,))\n",
    "        result = cursor.fetchall()\n",
    "\n",
    "        ind_id = -1\n",
    "\n",
    "        for row in result:\n",
    "            ind_id = row[0]\n",
    "\n",
    "        if ind_id == -1:\n",
    "            no_industry.append(ind_id)\n",
    "            continue\n",
    "        \n",
    "        insert_sql = \"\"\"insert into myauth_company (`name`, `industry_id`) values (%s, %s)\"\"\"\n",
    "        \n",
    "        cursor.execute(insert_sql, (unique_company.loc[s, 'name'], ind_id,))\n",
    "        \n",
    "conn.commit()\n",
    "\n",
    "conn.close()"
=======
=======
>>>>>>> f3acc03ef0deef6a787f682d2d19c0da4d2e5fd8
   "execution_count": 15,
   "metadata": {},
   "outputs": [],
   "source": [
    "qst_df['name'] = qst_df.name.map(lambda x: str(x).strip())\n",
    "unique_qst = qst_df.drop_duplicates(['name'], keep='first')"
<<<<<<< HEAD
>>>>>>> f3acc03ef0deef6a787f682d2d19c0da4d2e5fd8
=======
>>>>>>> f3acc03ef0deef6a787f682d2d19c0da4d2e5fd8
   ]
  },
  {
   "cell_type": "code",
<<<<<<< HEAD
<<<<<<< HEAD
   "execution_count": null,
   "metadata": {},
   "outputs": [],
   "source": [
    "# 이름을 포함하는 경우\n",
    "conn = pymysql.connect( **conn_info )\n",
    "\n",
    "cursor = conn.cursor()\n",
    "\n",
    "for s in include:\n",
    "    \n",
    "    unique_company.loc[ unique_company.loc[s, 'name'].contains(df['company_']) ]\n",
    "    \n",
    "    ind = df.loc[ df['company_name'] in unique_company.loc[s, 'name'] ]['industry_type']\n",
    "    \n",
    "    print(ind)\n",
    "    b = input()\n",
    "    \n",
    "    if ind.tolist()[0] is None:\n",
    "        continue\n",
    "    \n",
    "    for ind_name in ind.tolist()[0].split(\",\"):    \n",
    "        \n",
    "        sql = \"\"\"select `industry_id` from `myauth_industry` where `name` = %s\"\"\"\n",
    "#         cursor.execute(sql, (ind_name,))\n",
    "#         result = cursor.fetchall()\n",
    "\n",
    "        ind_id = -1\n",
    "\n",
    "        for row in result:\n",
    "            ind_id = row[0]\n",
    "\n",
    "        if ind_id == -1:\n",
    "            no_industry.append(ind_id)\n",
    "            continue\n",
    "        \n",
    "        insert_sql = \"\"\"insert into myauth_company (`name`, `industry_id`) values (%s, %s)\"\"\"\n",
    "        \n",
    "#         cursor.execute(insert_sql, (unique_company.loc[s, 'name'], ind_id,))\n",
    "        \n",
    "# conn.commit()\n",
    "\n",
    "conn.close()"
=======
=======
>>>>>>> f3acc03ef0deef6a787f682d2d19c0da4d2e5fd8
   "execution_count": 16,
   "metadata": {},
   "outputs": [
    {
     "data": {
      "text/html": [
       "<div>\n",
       "<style scoped>\n",
       "    .dataframe tbody tr th:only-of-type {\n",
       "        vertical-align: middle;\n",
       "    }\n",
       "\n",
       "    .dataframe tbody tr th {\n",
       "        vertical-align: top;\n",
       "    }\n",
       "\n",
       "    .dataframe thead th {\n",
       "        text-align: right;\n",
       "    }\n",
       "</style>\n",
       "<table border=\"1\" class=\"dataframe\">\n",
       "  <thead>\n",
       "    <tr style=\"text-align: right;\">\n",
       "      <th></th>\n",
       "      <th>name</th>\n",
       "    </tr>\n",
       "  </thead>\n",
       "  <tbody>\n",
       "    <tr>\n",
       "      <th>0</th>\n",
       "      <td>취미/특기 (40자)</td>\n",
       "    </tr>\n",
       "    <tr>\n",
       "      <th>1</th>\n",
       "      <td>존경인물 (10자)</td>\n",
       "    </tr>\n",
       "    <tr>\n",
       "      <th>2</th>\n",
       "      <td>존경이유 (40자)</td>\n",
       "    </tr>\n",
       "    <tr>\n",
       "      <th>3</th>\n",
       "      <td>삼성엔지니어링을 지원한 이유와 입사 후 회사에서 이루고 싶은 꿈을 기술하십시오. (...</td>\n",
       "    </tr>\n",
       "    <tr>\n",
       "      <th>4</th>\n",
       "      <td>본인의 성장과정을 간략히 기술하되 현재의 자신에게 가장 큰 영향을 끼친 사건, 인물...</td>\n",
       "    </tr>\n",
       "  </tbody>\n",
       "</table>\n",
       "</div>"
      ],
      "text/plain": [
       "                                                name\n",
       "0                                        취미/특기 (40자)\n",
       "1                                         존경인물 (10자)\n",
       "2                                         존경이유 (40자)\n",
       "3  삼성엔지니어링을 지원한 이유와 입사 후 회사에서 이루고 싶은 꿈을 기술하십시오. (...\n",
       "4  본인의 성장과정을 간략히 기술하되 현재의 자신에게 가장 큰 영향을 끼친 사건, 인물..."
      ]
     },
     "execution_count": 16,
     "metadata": {},
     "output_type": "execute_result"
    }
   ],
   "source": [
    "unique_qst.head()"
<<<<<<< HEAD
>>>>>>> f3acc03ef0deef6a787f682d2d19c0da4d2e5fd8
=======
>>>>>>> f3acc03ef0deef6a787f682d2d19c0da4d2e5fd8
   ]
  },
  {
   "cell_type": "code",
<<<<<<< HEAD
<<<<<<< HEAD
   "execution_count": null,
=======
   "execution_count": 17,
>>>>>>> f3acc03ef0deef6a787f682d2d19c0da4d2e5fd8
=======
   "execution_count": 17,
>>>>>>> f3acc03ef0deef6a787f682d2d19c0da4d2e5fd8
   "metadata": {},
   "outputs": [],
   "source": [
    "conn = pymysql.connect( **conn_info )\n",
    "\n",
    "cursor = conn.cursor()\n",
    "\n",
<<<<<<< HEAD
<<<<<<< HEAD
    "for idx, row in unique_company.iterrows():\n",
    "    sql = \"\"\"insert into COMPANIES (`name`) values (%s)\"\"\"\n",
=======
    "for idx, row in unique_qst.iterrows():\n",
    "    sql = \"\"\"insert into QUESTION (`content`) values (%s)\"\"\"\n",
>>>>>>> f3acc03ef0deef6a787f682d2d19c0da4d2e5fd8
=======
    "for idx, row in unique_qst.iterrows():\n",
    "    sql = \"\"\"insert into QUESTION (`content`) values (%s)\"\"\"\n",
>>>>>>> f3acc03ef0deef6a787f682d2d19c0da4d2e5fd8
    "        \n",
    "    cursor.execute(sql, (str(row['name'])))\n",
    "    \n",
    "    conn.commit()\n",
    "        \n",
    "conn.close()"
   ]
  },
  {
   "cell_type": "markdown",
   "metadata": {},
   "source": [
<<<<<<< HEAD
<<<<<<< HEAD
    "## Task"
=======
    "## Industry"
>>>>>>> f3acc03ef0deef6a787f682d2d19c0da4d2e5fd8
   ]
  },
  {
   "cell_type": "code",
   "execution_count": null,
   "metadata": {},
   "outputs": [],
   "source": [
<<<<<<< HEAD
    "task_list = []\n",
    "for file in task_files:\n",
    "    task_list.extend(list(pd.read_csv(file).name))\n",
    "    \n",
    "task_df = pd.DataFrame(task_list, columns=['name'])\n",
    "\n",
    "task_df.info()"
   ]
  },
  {
   "cell_type": "code",
   "execution_count": null,
   "metadata": {},
   "outputs": [],
   "source": [
    "task_df.drop_duplicates(['name'], keep='first')"
=======
    "## Industry"
>>>>>>> f3acc03ef0deef6a787f682d2d19c0da4d2e5fd8
   ]
  },
  {
   "cell_type": "code",
   "execution_count": null,
   "metadata": {},
   "outputs": [],
   "source": [
<<<<<<< HEAD
    "unique_task = task_df.drop_duplicates(['name'], keep='first')"
   ]
  },
  {
   "cell_type": "code",
   "execution_count": null,
   "metadata": {},
   "outputs": [],
   "source": [
    "unique_task['name'] = unique_task.name.map(lambda x: x[1:-1] if not x[0].isalpha() else x)"
   ]
  },
  {
   "cell_type": "code",
   "execution_count": null,
   "metadata": {},
   "outputs": [],
   "source": [
    "conn = pymysql.connect( **conn_info )\n",
    "\n",
    "cursor = conn.cursor()\n",
    "\n",
    "for idx, row in unique_task.iterrows():\n",
    "    sql = \"\"\"insert into myauth_task (`name`) values (%s)\"\"\"\n",
    "\n",
    "    cursor.execute(sql, (str(row['name'])))\n",
    "    \n",
    "    conn.commit()\n",
    "        \n",
    "conn.close()"
   ]
  },
  {
   "cell_type": "markdown",
   "metadata": {},
   "source": [
    "## Question"
   ]
  },
  {
   "cell_type": "code",
   "execution_count": null,
   "metadata": {},
   "outputs": [],
   "source": [
    "qst_list = []\n",
    "for file in qst_files:\n",
    "    col = pd.read_csv(file).columns[0]\n",
    "    qst_list.extend(list(pd.read_csv(file)[col]))\n",
    "    \n",
    "qst_df = pd.DataFrame(qst_list, columns=['name'])\n",
    "\n",
    "qst_df.info()"
   ]
  },
  {
   "cell_type": "code",
   "execution_count": null,
   "metadata": {},
   "outputs": [],
   "source": [
    "qst_df.drop_duplicates(['name'], keep='first')"
   ]
  },
  {
   "cell_type": "code",
   "execution_count": null,
   "metadata": {},
   "outputs": [],
   "source": [
    "qst_df['name'] = qst_df.name.map(lambda x: str(x).strip())\n",
    "unique_qst = qst_df.drop_duplicates(['name'], keep='first')"
   ]
  },
  {
   "cell_type": "code",
   "execution_count": null,
   "metadata": {},
   "outputs": [],
   "source": [
    "unique_qst.head()"
   ]
  },
  {
   "cell_type": "code",
   "execution_count": null,
   "metadata": {},
   "outputs": [],
   "source": [
    "conn = pymysql.connect( **conn_info )\n",
    "\n",
    "cursor = conn.cursor()\n",
    "\n",
    "for idx, row in unique_qst.iterrows():\n",
    "    sql = \"\"\"insert into myauth_question (`content`) values (%s)\"\"\"\n",
    "        \n",
    "    cursor.execute(sql, (str(row['name'])))\n",
    "    \n",
    "    conn.commit()\n",
    "        \n",
    "conn.close()"
=======
=======
>>>>>>> f3acc03ef0deef6a787f682d2d19c0da4d2e5fd8
    "industry_list = []\n",
    "for file in industry_files:\n",
    "    industry_list.extend(list(pd.read_csv(file).name))\n",
    "    \n",
    "industry_df = pd.DataFrame(industry_list, columns=['name'])\n",
    "\n",
    "industry_df.info()"
<<<<<<< HEAD
>>>>>>> f3acc03ef0deef6a787f682d2d19c0da4d2e5fd8
=======
>>>>>>> f3acc03ef0deef6a787f682d2d19c0da4d2e5fd8
   ]
  },
  {
   "cell_type": "markdown",
   "metadata": {},
   "source": [
    "## save"
   ]
  },
  {
   "cell_type": "code",
<<<<<<< HEAD
<<<<<<< HEAD
   "execution_count": null,
   "metadata": {},
   "outputs": [],
=======
=======
>>>>>>> f3acc03ef0deef6a787f682d2d19c0da4d2e5fd8
   "execution_count": 18,
   "metadata": {},
   "outputs": [
    {
     "data": {
      "text/plain": [
       "(2021, 4, 5, 12)"
      ]
     },
     "execution_count": 18,
     "metadata": {},
     "output_type": "execute_result"
    }
   ],
<<<<<<< HEAD
>>>>>>> f3acc03ef0deef6a787f682d2d19c0da4d2e5fd8
=======
>>>>>>> f3acc03ef0deef6a787f682d2d19c0da4d2e5fd8
   "source": [
    "from datetime import datetime\n",
    "\n",
    "today = datetime.today()\n",
    "\n",
    "today.year, today.month, today.day, today.hour"
   ]
  },
  {
   "cell_type": "code",
<<<<<<< HEAD
<<<<<<< HEAD
   "execution_count": null,
=======
   "execution_count": 20,
>>>>>>> f3acc03ef0deef6a787f682d2d19c0da4d2e5fd8
=======
   "execution_count": 20,
>>>>>>> f3acc03ef0deef6a787f682d2d19c0da4d2e5fd8
   "metadata": {},
   "outputs": [],
   "source": [
    "todayDate = str(today.year) + \"-\" + str(today.month) + \"-\" + \\\n",
    "            str(today.day) + \"-\" + str(today.hour) + \"-\"\n",
    "\n",
    "saving_path = par + \"/datafiles/unique-db/\"\n",
    "\n",
    "unique_task.to_csv(saving_path + todayDate + \"tasks.csv\", index=False, encoding='utf-8-sig')\n",
    "unique_qst.to_csv(saving_path + todayDate + \"questions.csv\", index=False, encoding='utf-8-sig')\n",
<<<<<<< HEAD
<<<<<<< HEAD
    "# unique_company.to_csv(saving_path + todayDate + \"companies.csv\", index=False, encoding='utf-8-sig')"
=======
    "unique_company.to_csv(saving_path + todayDate + \"companies.csv\", index=False, encoding='utf-8-sig')"
>>>>>>> f3acc03ef0deef6a787f682d2d19c0da4d2e5fd8
=======
    "unique_company.to_csv(saving_path + todayDate + \"companies.csv\", index=False, encoding='utf-8-sig')"
>>>>>>> f3acc03ef0deef6a787f682d2d19c0da4d2e5fd8
   ]
  },
  {
   "cell_type": "code",
<<<<<<< HEAD
<<<<<<< HEAD
   "execution_count": null,
   "metadata": {},
   "outputs": [],
   "source": [
    "# 확인\n",
    "pd.read_csv(saving_path + todayDate + \"tasks.csv\")"
=======
=======
>>>>>>> f3acc03ef0deef6a787f682d2d19c0da4d2e5fd8
   "execution_count": 21,
   "metadata": {},
   "outputs": [
    {
     "data": {
      "text/html": [
       "<div>\n",
       "<style scoped>\n",
       "    .dataframe tbody tr th:only-of-type {\n",
       "        vertical-align: middle;\n",
       "    }\n",
       "\n",
       "    .dataframe tbody tr th {\n",
       "        vertical-align: top;\n",
       "    }\n",
       "\n",
       "    .dataframe thead th {\n",
       "        text-align: right;\n",
       "    }\n",
       "</style>\n",
       "<table border=\"1\" class=\"dataframe\">\n",
       "  <thead>\n",
       "    <tr style=\"text-align: right;\">\n",
       "      <th></th>\n",
       "      <th>name</th>\n",
       "    </tr>\n",
       "  </thead>\n",
       "  <tbody>\n",
       "    <tr>\n",
       "      <th>0</th>\n",
       "      <td>경영지원 - 재무</td>\n",
       "    </tr>\n",
       "    <tr>\n",
       "      <th>1</th>\n",
       "      <td>행정</td>\n",
       "    </tr>\n",
       "    <tr>\n",
       "      <th>2</th>\n",
       "      <td>신입/경력 통합6급</td>\n",
       "    </tr>\n",
       "    <tr>\n",
       "      <th>3</th>\n",
       "      <td>사무</td>\n",
       "    </tr>\n",
       "    <tr>\n",
       "      <th>4</th>\n",
       "      <td>금융영업</td>\n",
       "    </tr>\n",
       "    <tr>\n",
       "      <th>...</th>\n",
       "      <td>...</td>\n",
       "    </tr>\n",
       "    <tr>\n",
       "      <th>847</th>\n",
       "      <td>‘QA·테스터·검증’</td>\n",
       "    </tr>\n",
       "    <tr>\n",
       "      <th>848</th>\n",
       "      <td>‘설치·정비·A/S’</td>\n",
       "    </tr>\n",
       "    <tr>\n",
       "      <th>849</th>\n",
       "      <td>‘반도체·디스플레이’</td>\n",
       "    </tr>\n",
       "    <tr>\n",
       "      <th>850</th>\n",
       "      <td>‘학습지·과외·방문교사’</td>\n",
       "    </tr>\n",
       "    <tr>\n",
       "      <th>851</th>\n",
       "      <td>‘기획·전략·경영’</td>\n",
       "    </tr>\n",
       "  </tbody>\n",
       "</table>\n",
       "<p>852 rows × 1 columns</p>\n",
       "</div>"
      ],
      "text/plain": [
       "              name\n",
       "0        경영지원 - 재무\n",
       "1               행정\n",
       "2       신입/경력 통합6급\n",
       "3               사무\n",
       "4             금융영업\n",
       "..             ...\n",
       "847    ‘QA·테스터·검증’\n",
       "848    ‘설치·정비·A/S’\n",
       "849    ‘반도체·디스플레이’\n",
       "850  ‘학습지·과외·방문교사’\n",
       "851     ‘기획·전략·경영’\n",
       "\n",
       "[852 rows x 1 columns]"
      ]
     },
     "execution_count": 21,
     "metadata": {},
     "output_type": "execute_result"
    }
   ],
   "source": [
    "# 확인\n",
    "pd.read_csv(saving_path + todayDate + \"tasks.csv\")\n"
<<<<<<< HEAD
>>>>>>> f3acc03ef0deef6a787f682d2d19c0da4d2e5fd8
=======
>>>>>>> f3acc03ef0deef6a787f682d2d19c0da4d2e5fd8
   ]
  },
  {
   "cell_type": "code",
   "execution_count": null,
   "metadata": {},
   "outputs": [],
   "source": []
  }
 ],
 "metadata": {
  "kernelspec": {
   "display_name": "Python 3",
   "language": "python",
   "name": "python3"
  },
  "language_info": {
   "codemirror_mode": {
    "name": "ipython",
    "version": 3
   },
   "file_extension": ".py",
   "mimetype": "text/x-python",
   "name": "python",
   "nbconvert_exporter": "python",
   "pygments_lexer": "ipython3",
   "version": "3.7.6"
  }
 },
 "nbformat": 4,
 "nbformat_minor": 4
}
